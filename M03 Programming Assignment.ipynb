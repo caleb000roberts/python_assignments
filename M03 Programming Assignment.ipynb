{
 "cells": [
  {
   "cell_type": "code",
   "execution_count": 2,
   "id": "2bdbb33b",
   "metadata": {},
   "outputs": [
    {
     "name": "stdout",
     "output_type": "stream",
     "text": [
      "['mozzarella', 'Cinderella', 'salmonella']\n"
     ]
    }
   ],
   "source": [
    "# M03 Programming Assignment\n",
    "# Author: Caleb Roberts\n",
    "# Created: 2/4/2023\n",
    "\n",
    "things = [\"mozzarella\", \"cinderella,\", \"salmonella\"]\n",
    "things[1] = \"Cinderella\"\n",
    "print(things)"
   ]
  },
  {
   "cell_type": "code",
   "execution_count": 4,
   "id": "8e237b76",
   "metadata": {},
   "outputs": [
    {
     "name": "stdout",
     "output_type": "stream",
     "text": [
      "['MOZZARELLA', 'Cinderella', 'salmonella']\n"
     ]
    }
   ],
   "source": [
    "things[0] = \"MOZZARELLA\"\n",
    "print(things)"
   ]
  },
  {
   "cell_type": "code",
   "execution_count": 5,
   "id": "fb596e1c",
   "metadata": {},
   "outputs": [
    {
     "name": "stdout",
     "output_type": "stream",
     "text": [
      "['MOZZARELLA', 'Cinderella']\n"
     ]
    }
   ],
   "source": [
    "things.pop()\n",
    "print(things)"
   ]
  },
  {
   "cell_type": "code",
   "execution_count": 13,
   "id": "d54b450e",
   "metadata": {},
   "outputs": [
    {
     "data": {
      "text/plain": [
       "['Harry', 'Ron', 'Hermoine']"
      ]
     },
     "execution_count": 13,
     "metadata": {},
     "output_type": "execute_result"
    }
   ],
   "source": [
    "wizards = [\"Harry\", \"Ron\", \"Hermoine\"]\n",
    "\n",
    "def good():\n",
    "    return(wizards)\n",
    "    \n",
    "good()"
   ]
  },
  {
   "cell_type": "code",
   "execution_count": 16,
   "id": "2507800e",
   "metadata": {},
   "outputs": [
    {
     "name": "stdout",
     "output_type": "stream",
     "text": [
      "The third oddball is  5\n"
     ]
    }
   ],
   "source": [
    "def get_odds():\n",
    "  for number in range(1,10,2):\n",
    "    yield number\n",
    "count = 1\n",
    "for number in get_odds():\n",
    "        if count == 3:\n",
    "            print(\"The third oddball is \", + number)\n",
    "            break\n",
    "        count += 1"
   ]
  },
  {
   "cell_type": "code",
   "execution_count": null,
   "id": "2c0f7613",
   "metadata": {},
   "outputs": [],
   "source": []
  }
 ],
 "metadata": {
  "kernelspec": {
   "display_name": "Python 3 (ipykernel)",
   "language": "python",
   "name": "python3"
  },
  "language_info": {
   "codemirror_mode": {
    "name": "ipython",
    "version": 3
   },
   "file_extension": ".py",
   "mimetype": "text/x-python",
   "name": "python",
   "nbconvert_exporter": "python",
   "pygments_lexer": "ipython3",
   "version": "3.9.13"
  }
 },
 "nbformat": 4,
 "nbformat_minor": 5
}
