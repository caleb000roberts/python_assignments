{
 "cells": [
  {
   "cell_type": "code",
   "execution_count": 15,
   "id": "02ca34d3",
   "metadata": {},
   "outputs": [
    {
     "name": "stdout",
     "output_type": "stream",
     "text": [
      "3600\n"
     ]
    }
   ],
   "source": [
    "# m01 Programming Assignment\n",
    "# author: Caleb Roberts\n",
    "# created: 1/20/2023\n",
    "\n",
    "# Create intial variables\n",
    "hours_per_day = 24\n",
    "minutes_per_hour = 60\n",
    "seconds_per_minute = 60\n",
    "\n",
    "# Calculate seconds per hour\n",
    "seconds_per_hour = minutes * seconds\n",
    "print(seconds_per_hour)"
   ]
  },
  {
   "cell_type": "code",
   "execution_count": 16,
   "id": "8a3e3752",
   "metadata": {},
   "outputs": [
    {
     "name": "stdout",
     "output_type": "stream",
     "text": [
      "86400\n"
     ]
    }
   ],
   "source": [
    "# Calculate seconds per day\n",
    "seconds_per_day = seconds_per_hour * hours_per_day\n",
    "print(seconds_per_day)"
   ]
  },
  {
   "cell_type": "code",
   "execution_count": 17,
   "id": "36580fec",
   "metadata": {},
   "outputs": [
    {
     "name": "stdout",
     "output_type": "stream",
     "text": [
      "24.0\n"
     ]
    }
   ],
   "source": [
    "# Demonstrate float division\n",
    "float_divide = seconds_per_day / seconds_per_hour\n",
    "print(float_divide)"
   ]
  },
  {
   "cell_type": "code",
   "execution_count": 18,
   "id": "16db0d10",
   "metadata": {},
   "outputs": [
    {
     "name": "stdout",
     "output_type": "stream",
     "text": [
      "24\n"
     ]
    }
   ],
   "source": [
    "# Demonstrate integer division\n",
    "integer_divide = seconds_per_day // seconds_per_hour\n",
    "print(integer_divide)"
   ]
  },
  {
   "cell_type": "code",
   "execution_count": null,
   "id": "a4c3768e",
   "metadata": {},
   "outputs": [],
   "source": []
  }
 ],
 "metadata": {
  "kernelspec": {
   "display_name": "Python 3 (ipykernel)",
   "language": "python",
   "name": "python3"
  },
  "language_info": {
   "codemirror_mode": {
    "name": "ipython",
    "version": 3
   },
   "file_extension": ".py",
   "mimetype": "text/x-python",
   "name": "python",
   "nbconvert_exporter": "python",
   "pygments_lexer": "ipython3",
   "version": "3.9.13"
  }
 },
 "nbformat": 4,
 "nbformat_minor": 5
}
