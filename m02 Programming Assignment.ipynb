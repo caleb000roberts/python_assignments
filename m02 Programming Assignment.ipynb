{
 "cells": [
  {
   "cell_type": "code",
   "execution_count": 5,
   "id": "f6409a42",
   "metadata": {},
   "outputs": [
    {
     "name": "stdout",
     "output_type": "stream",
     "text": [
      "Just right!\n"
     ]
    }
   ],
   "source": [
    "# m02 Programming Assignment\n",
    "# author: Caleb Roberts\n",
    "# created: 1/27/2023\n",
    "\n",
    "\n",
    "secret = 7\n",
    "guess = 7\n",
    "\n",
    "if guess > secret:\n",
    "    print(\"Too high!\")\n",
    "elif guess < secret:\n",
    "    print(\"Too low!\")\n",
    "else:\n",
    "    print(\"Just right!\")"
   ]
  },
  {
   "cell_type": "code",
   "execution_count": 34,
   "id": "65602c91",
   "metadata": {},
   "outputs": [
    {
     "name": "stdout",
     "output_type": "stream",
     "text": [
      "Watermelon is the name...flavor is the game.\n"
     ]
    }
   ],
   "source": [
    "# Set conditions\n",
    "small = False\n",
    "green = True\n",
    "\n",
    "\n",
    "if small and green :\n",
    "    print(\"Well that looks like a pea to me...\")\n",
    "elif small and not green :\n",
    "    print(\"Ch-ch-ch-cherry(bomb)!\")\n",
    "elif not small and not green :\n",
    "    print(\"Most definitely a pumpkin!\")\n",
    "elif not small and green :\n",
    "    print(\"Watermelon is the name...flavor is the game.\")"
   ]
  },
  {
   "cell_type": "code",
   "execution_count": 51,
   "id": "d6b91739",
   "metadata": {},
   "outputs": [
    {
     "name": "stdout",
     "output_type": "stream",
     "text": [
      "3\n",
      "2\n",
      "1\n",
      "0\n"
     ]
    }
   ],
   "source": [
    "for x in range(3,-1,-1) :\n",
    "    print (x)"
   ]
  },
  {
   "cell_type": "code",
   "execution_count": 81,
   "id": "3ba06ec5",
   "metadata": {},
   "outputs": [
    {
     "name": "stdout",
     "output_type": "stream",
     "text": [
      "Too Low\n",
      "Too Low\n",
      "Too Low\n",
      "Too Low\n",
      "Too Low\n",
      "Too Low\n",
      "Found it!\n"
     ]
    }
   ],
   "source": [
    "guess_me = 7\n",
    "\n",
    "# Counter\n",
    "number = 1\n",
    "\n",
    "while True:\n",
    "    if number < guess_me :\n",
    "        print(\"Too Low\")\n",
    "    elif number == guess_me :\n",
    "        print(\"Found it!\")\n",
    "        break\n",
    "    else:\n",
    "        print(\"Ooops!\")\n",
    "        break\n",
    "    number += 1"
   ]
  },
  {
   "cell_type": "code",
   "execution_count": 89,
   "id": "228ded64",
   "metadata": {},
   "outputs": [
    {
     "name": "stdout",
     "output_type": "stream",
     "text": [
      "Too low!\n",
      "Too low!\n",
      "Too low!\n",
      "Too low!\n",
      "Too low!\n",
      "Found it!\n"
     ]
    }
   ],
   "source": [
    "guess_me = 5\n",
    "\n",
    "for number in range(10) :\n",
    "    if number < guess_me :\n",
    "        print(\"Too low!\")\n",
    "    elif number == guess_me :\n",
    "        print(\"Found it!\")\n",
    "        break\n",
    "    else:\n",
    "        print(\"Ooops!\")"
   ]
  },
  {
   "cell_type": "code",
   "execution_count": null,
   "id": "56a91b3c",
   "metadata": {},
   "outputs": [],
   "source": []
  },
  {
   "cell_type": "code",
   "execution_count": null,
   "id": "f5160d3c",
   "metadata": {},
   "outputs": [],
   "source": []
  }
 ],
 "metadata": {
  "kernelspec": {
   "display_name": "Python 3 (ipykernel)",
   "language": "python",
   "name": "python3"
  },
  "language_info": {
   "codemirror_mode": {
    "name": "ipython",
    "version": 3
   },
   "file_extension": ".py",
   "mimetype": "text/x-python",
   "name": "python",
   "nbconvert_exporter": "python",
   "pygments_lexer": "ipython3",
   "version": "3.9.13"
  }
 },
 "nbformat": 4,
 "nbformat_minor": 5
}
